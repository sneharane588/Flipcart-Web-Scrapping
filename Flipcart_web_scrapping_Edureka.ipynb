{
 "cells": [
  {
   "cell_type": "markdown",
   "metadata": {},
   "source": [
    "# Web scrapping by Edureka"
   ]
  },
  {
   "cell_type": "code",
   "execution_count": 1,
   "metadata": {},
   "outputs": [],
   "source": [
    "from bs4 import BeautifulSoup as soup\n",
    "from urllib.request import urlopen as uReq"
   ]
  },
  {
   "cell_type": "code",
   "execution_count": 2,
   "metadata": {},
   "outputs": [],
   "source": [
    "url = \"https://www.flipkart.com/search?q=iphone&otracker=search&otracker1=search&marketplace=FLIPKART&as-show=on&as=off\"\n",
    "\n",
    "uClient = uReq(url)\n",
    "html = uClient.read()\n",
    "uClient.close()\n",
    "\n",
    "page_soup = soup(html, 'html.parser')\n",
    "container = page_soup.findAll('div', attrs = {\"class\":\"_1UoZlX\"})"
   ]
  },
  {
   "cell_type": "code",
   "execution_count": 3,
   "metadata": {},
   "outputs": [
    {
     "name": "stdout",
     "output_type": "stream",
     "text": [
      "24\n"
     ]
    }
   ],
   "source": [
    "print(len(container))"
   ]
  },
  {
   "cell_type": "code",
   "execution_count": 4,
   "metadata": {},
   "outputs": [
    {
     "name": "stdout",
     "output_type": "stream",
     "text": [
      "Add to CompareApple iPhone SE (Black, 64 GB)4.517,236 Ratings & 1,677 Reviews64 GB ROM11.94 cm (4.7 inch) Retina HD Display12MP Rear Camera | 7MP Front CameraA13 Bionic Chip with 3rd Gen Neural Engine ProcessorWater and Dust Resistant (1 meter for Upto 30 minutes, IP67)Fast Charge CapableWireless charging (Works with Qi Chargers | Qi Chargers are Sold SeparatelyBrand Warranty for 1 Year₹41,500₹42,5002% offNo Cost EMIUpto ₹13,450 Off on Exchange \n",
      "\n",
      "Add to CompareApple iPhone SE (Red, 64 GB)4.517,236 Ratings & 1,677 Reviews64 GB ROM11.94 cm (4.7 inch) Retina HD Display12MP Rear Camera | 7MP Front CameraA13 Bionic Chip with 3rd Gen Neural Engine ProcessorWater and Dust Resistant (1 meter for Upto 30 minutes, IP67)Fast Charge CapableWireless charging (Works with Qi Chargers | Qi Chargers are Sold SeparatelyBrand Warranty for 1 Year₹41,500₹42,5002% offNo Cost EMIUpto ₹13,450 Off on Exchange \n",
      "\n",
      "Add to CompareApple iPhone SE (White, 64 GB)4.517,236 Ratings & 1,677 Reviews64 GB ROM11.94 cm (4.7 inch) Retina HD Display12MP Rear Camera | 7MP Front CameraA13 Bionic Chip with 3rd Gen Neural Engine ProcessorWater and Dust Resistant (1 meter for Upto 30 minutes, IP67)Fast Charge CapableWireless charging (Works with Qi Chargers | Qi Chargers are Sold SeparatelyBrand Warranty for 1 Year₹41,500₹42,5002% offNo Cost EMIUpto ₹13,450 Off on Exchange \n",
      "\n",
      "Coming SoonAdd to CompareApple iPhone XR (Black, 128 GB)4.614,436 Ratings & 1,205 Reviews128 GB ROM15.49 cm (6.1 inch) Display12MP Rear Camera | 7MP Front CameraA12 Bionic Chip ProcessoriOS 13 CompatibleBrand Warranty of 1 Year₹57,800 \n",
      "\n",
      "Coming SoonAdd to CompareApple iPhone XR (White, 128 GB)4.614,436 Ratings & 1,205 Reviews128 GB ROM15.49 cm (6.1 inch) Display12MP Rear Camera | 7MP Front CameraA12 Bionic Chip ProcessoriOS 13 CompatibleBrand Warranty of 1 Year₹57,800 \n",
      "\n",
      "Coming SoonAdd to CompareApple iPhone XR (White, 64 GB)4.614,436 Ratings & 1,205 Reviews64 GB ROM15.49 cm (6.1 inch) Display12MP Rear Camera | 7MP Front CameraA12 Bionic Chip ProcessoriOS 13 CompatibleBrand Warranty of 1 Year₹52,500 \n",
      "\n",
      "Add to CompareApple iPhone SE (Red, 128 GB)4.517,236 Ratings & 1,677 Reviews128 GB ROM11.94 cm (4.7 inch) Retina HD Display12MP Rear Camera | 7MP Front CameraA13 Bionic Chip with 3rd Gen Neural Engine ProcessorWater and Dust Resistant (1 meter for Upto 30 minutes, IP67)Fast Charge CapableWireless charging (Works with Qi Chargers | Qi Chargers are Sold SeparatelyBrand Warranty for 1 Year₹46,800₹47,8002% offNo Cost EMIUpto ₹13,450 Off on Exchange \n",
      "\n",
      "Coming SoonAdd to CompareApple iPhone XR ((PRODUCT)RED, 64 GB)4.614,436 Ratings & 1,205 Reviews64 GB ROM15.49 cm (6.1 inch) Display12MP Rear Camera | 7MP Front CameraA12 Bionic Chip ProcessoriOS 13 CompatibleBrand Warranty of 1 Year₹52,500 \n",
      "\n",
      "Add to CompareApple iPhone 7 (Black, 32 GB)4.591,700 Ratings & 9,092 Reviews32 GB ROM11.94 cm (4.7 inch) Retina HD Display12MP Rear Camera | 7MP Front CameraApple A10 Fusion 64-bit processor and Embedded M10 Motion Co-processoriOS 13 CompatibleBrand Warranty of 1 Year₹29,799₹31,5005% offNo Cost EMIUpto ₹13,450 Off on Exchange \n",
      "\n",
      "Add to CompareApple iPhone SE (White, 128 GB)4.517,236 Ratings & 1,677 Reviews128 GB ROM11.94 cm (4.7 inch) Retina HD Display12MP Rear Camera | 7MP Front CameraA13 Bionic Chip with 3rd Gen Neural Engine ProcessorWater and Dust Resistant (1 meter for Upto 30 minutes, IP67)Fast Charge CapableWireless charging (Works with Qi Chargers | Qi Chargers are Sold SeparatelyBrand Warranty for 1 Year₹46,800₹47,8002% offNo Cost EMIUpto ₹13,450 Off on Exchange \n",
      "\n",
      "Coming SoonAdd to CompareApple iPhone XR (Blue, 64 GB)4.614,436 Ratings & 1,205 Reviews64 GB ROM15.49 cm (6.1 inch) Display12MP Rear Camera | 7MP Front CameraA12 Bionic Chip ProcessoriOS 13 CompatibleBrand Warranty of 1 Year₹52,500 \n",
      "\n",
      "Add to CompareApple iPhone SE (Black, 128 GB)4.517,236 Ratings & 1,677 Reviews128 GB ROM11.94 cm (4.7 inch) Retina HD Display12MP Rear Camera | 7MP Front CameraA13 Bionic Chip with 3rd Gen Neural Engine ProcessorWater and Dust Resistant (1 meter for Upto 30 minutes, IP67)Fast Charge CapableWireless charging (Works with Qi Chargers | Qi Chargers are Sold SeparatelyBrand Warranty for 1 Year₹46,800₹47,8002% offNo Cost EMIUpto ₹13,450 Off on Exchange \n",
      "\n",
      "Coming SoonAdd to CompareApple iPhone XR (Coral, 64 GB)4.614,436 Ratings & 1,205 Reviews64 GB ROM15.49 cm (6.1 inch) Display12MP Rear Camera | 7MP Front CameraA12 Bionic Chip ProcessoriOS 13 CompatibleBrand Warranty of 1 Year₹52,500 \n",
      "\n",
      "Coming SoonAdd to CompareApple iPhone XR ((PRODUCT)RED, 128 GB)4.614,436 Ratings & 1,205 Reviews128 GB ROM15.49 cm (6.1 inch) Display12MP Rear Camera | 7MP Front CameraA12 Bionic Chip ProcessoriOS 13 CompatibleBrand Warranty of 1 Year₹57,800 \n",
      "\n",
      "Add to CompareApple iPhone 7 (Silver, 32 GB)4.591,700 Ratings & 9,092 Reviews32 GB ROM11.94 cm (4.7 inch) Retina HD Display12MP Rear Camera | 7MP Front CameraApple A10 Fusion 64-bit processor and Embedded M10 Motion Co-processoriOS 13 CompatibleBrand Warranty of 1 Year₹29,799₹31,5005% offNo Cost EMIUpto ₹13,450 Off on Exchange \n",
      "\n",
      "Add to CompareApple iPhone 7 Plus (Black, 32 GB)4.528,000 Ratings & 2,896 Reviews32 GB ROM13.97 cm (5.5 inch) Retina HD Display12MP + 12MP | 7MP Front CameraApple A10 Fusion 64-bit processor and Embedded M10 Motion Co-processoriOS 13 CompatibleBrand Warranty of 1 Year₹36,999₹37,9002% offNo Cost EMIUpto ₹13,450 Off on Exchange \n",
      "\n",
      "Coming SoonAdd to CompareApple iPhone XR (Coral, 128 GB)4.614,436 Ratings & 1,205 Reviews128 GB ROM15.49 cm (6.1 inch) Display12MP Rear Camera | 7MP Front CameraA12 Bionic Chip ProcessoriOS 13 CompatibleBrand Warranty of 1 Year₹57,800 \n",
      "\n",
      "Coming SoonAdd to CompareApple iPhone XR (Blue, 128 GB)4.614,436 Ratings & 1,205 Reviews128 GB ROM15.49 cm (6.1 inch) Display12MP Rear Camera | 7MP Front CameraA12 Bionic Chip ProcessoriOS 13 CompatibleBrand Warranty of 1 Year₹57,800 \n",
      "\n",
      "Add to CompareApple iPhone 11 (Black, 64 GB)4.718,703 Ratings & 1,586 Reviews64 GB ROM15.49 cm (6.1 inch) Liquid Retina HD Display12MP + 12MP | 12MP Front CameraA13 Bionic Chip ProcessorBrand Warranty for 1 Year₹68,300No Cost EMIUpto ₹13,450 Off on Exchange \n",
      "\n",
      "Add to CompareApple iPhone 11 (White, 128 GB)4.718,703 Ratings & 1,586 Reviews128 GB ROM15.49 cm (6.1 inch) Liquid Retina HD Display12MP + 12MP | 12MP Front CameraA13 Bionic Chip ProcessorBrand Warranty for 1 Year₹73,600No Cost EMIUpto ₹13,450 Off on Exchange \n",
      "\n",
      "Add to CompareApple iPhone 11 (Purple, 64 GB)4.718,703 Ratings & 1,586 Reviews64 GB ROM15.49 cm (6.1 inch) Liquid Retina HD Display12MP + 12MP | 12MP Front CameraA13 Bionic Chip ProcessorBrand Warranty for 1 Year₹68,300No Cost EMIUpto ₹13,450 Off on Exchange \n",
      "\n",
      "Add to CompareApple iPhone 11 (White, 64 GB)4.718,703 Ratings & 1,586 Reviews64 GB ROM15.49 cm (6.1 inch) Liquid Retina HD Display12MP + 12MP | 12MP Front CameraA13 Bionic Chip ProcessorBrand Warranty for 1 Year₹68,300No Cost EMIUpto ₹13,450 Off on Exchange \n",
      "\n",
      "Coming SoonAdd to CompareApple iPhone XR (Yellow, 64 GB)4.614,436 Ratings & 1,205 Reviews64 GB ROM15.49 cm (6.1 inch) Display12MP Rear Camera | 7MP Front CameraA12 Bionic Chip ProcessoriOS 13 CompatibleBrand Warranty of 1 Year₹52,500 \n",
      "\n",
      "Add to CompareApple iPhone 7 (Rose Gold, 32 GB)4.591,700 Ratings & 9,092 Reviews32 GB ROM11.94 cm (4.7 inch) Retina HD Display12MP Rear Camera | 7MP Front CameraApple A10 Fusion 64-bit processor and Embedded M10 Motion Co-processoriOS 13 CompatibleBrand Warranty of 1 Year₹29,799₹31,5005% offNo Cost EMIUpto ₹13,450 Off on Exchange \n",
      "\n"
     ]
    }
   ],
   "source": [
    "for i in container:\n",
    "    print(i.text,\"\\n\")"
   ]
  },
  {
   "cell_type": "markdown",
   "metadata": {},
   "source": [
    "### _Observing 1st product_"
   ]
  },
  {
   "cell_type": "code",
   "execution_count": 5,
   "metadata": {
    "scrolled": false
   },
   "outputs": [
    {
     "name": "stdout",
     "output_type": "stream",
     "text": [
      "<div class=\"_1UoZlX\">\n",
      " <a class=\"_31qSD5\" href=\"/apple-iphone-se-black-64-gb/p/itm832dd5963a08d?pid=MOBFRFXHCKWDAC4A&amp;lid=LSTMOBFRFXHCKWDAC4AEQROVZ&amp;marketplace=FLIPKART&amp;srno=s_1_1&amp;otracker=search&amp;otracker1=search&amp;fm=organic&amp;iid=f53520cf-d88c-446e-b9e8-d680ac01eb6f.MOBFRFXHCKWDAC4A.SEARCH&amp;ssid=zmatesumgw0000001597701159183&amp;qH=0b3f45b266a97d70\" rel=\"noopener noreferrer\" target=\"_blank\">\n",
      "  <div class=\"_3SQWE6\">\n",
      "   <div class=\"_1OCn9C\">\n",
      "    <div>\n",
      "     <div class=\"_3BTv9X\" style=\"height:200px;width:200px\">\n",
      "      <img alt=\"Apple iPhone SE (Black, 64 GB)\" class=\"_1Nyybr\" src=\"//img1a.flixcart.com/www/linchpin/fk-cp-zion/img/placeholder_9951d0.svg\"/>\n",
      "     </div>\n",
      "    </div>\n",
      "   </div>\n",
      "   <div class=\"_2lesQu\">\n",
      "    <div class=\"_1O_CiZ\">\n",
      "     <span class=\"_1iHA1p\">\n",
      "      <div class=\"_2kFyHg\">\n",
      "       <label>\n",
      "        <input class=\"_3uUUD5\" readonly=\"\" type=\"checkbox\"/>\n",
      "        <div class=\"_1p7h2j\">\n",
      "        </div>\n",
      "       </label>\n",
      "      </div>\n",
      "     </span>\n",
      "     <label class=\"_10TB-Q\">\n",
      "      <span>\n",
      "       Add to Compare\n",
      "      </span>\n",
      "     </label>\n",
      "    </div>\n",
      "   </div>\n",
      "   <div class=\"_3gDSOa _32A6AP\">\n",
      "    <div class=\"DsQ2eg\">\n",
      "     <svg class=\"_2oLiqr\" height=\"16\" viewbox=\"0 0 20 16\" width=\"16\" xmlns=\"http://www.w3.org/2000/svg\">\n",
      "      <path class=\"_35Y7Yo\" d=\"M8.695 16.682C4.06 12.382 1 9.536 1 6.065 1 3.219 3.178 1 5.95 1c1.566 0 3.069.746 4.05 1.915C10.981 1.745 12.484 1 14.05 1 16.822 1 19 3.22 19 6.065c0 3.471-3.06 6.316-7.695 10.617L10 17.897l-1.305-1.215z\" fill=\"#2874F0\" fill-rule=\"evenodd\" opacity=\".9\" stroke=\"#FFF\">\n",
      "      </path>\n",
      "     </svg>\n",
      "    </div>\n",
      "   </div>\n",
      "  </div>\n",
      "  <div class=\"_1-2Iqu row\">\n",
      "   <div class=\"col col-7-12\">\n",
      "    <div class=\"_3wU53n\">\n",
      "     Apple iPhone SE (Black, 64 GB)\n",
      "    </div>\n",
      "    <div class=\"niH0FQ\">\n",
      "     <span class=\"_2_KrJI\" id=\"productRating_LSTMOBFRFXHCKWDAC4AEQROVZ_MOBFRFXHCKWDAC4A_\">\n",
      "      <div class=\"hGSR34\">\n",
      "       4.5\n",
      "       <img class=\"_2lQ_WZ\" src=\"data:image/svg+xml;base64,PHN2ZyB4bWxucz0iaHR0cDovL3d3dy53My5vcmcvMjAwMC9zdmciIHdpZHRoPSIxMyIgaGVpZ2h0PSIxMiI+PHBhdGggZmlsbD0iI0ZGRiIgZD0iTTYuNSA5LjQzOWwtMy42NzQgMi4yMy45NC00LjI2LTMuMjEtMi44ODMgNC4yNTQtLjQwNEw2LjUuMTEybDEuNjkgNC4wMSA0LjI1NC40MDQtMy4yMSAyLjg4Mi45NCA0LjI2eiIvPjwvc3ZnPg==\"/>\n",
      "      </div>\n",
      "     </span>\n",
      "     <span class=\"_38sUEc\">\n",
      "      <span>\n",
      "       <span>\n",
      "        17,236 Ratings\n",
      "       </span>\n",
      "       <span class=\"_1VpSqZ\">\n",
      "        &amp;\n",
      "       </span>\n",
      "       <span>\n",
      "        1,677 Reviews\n",
      "       </span>\n",
      "      </span>\n",
      "     </span>\n",
      "    </div>\n",
      "    <div class=\"_3ULzGw\">\n",
      "     <ul class=\"vFw0gD\">\n",
      "      <li class=\"tVe95H\">\n",
      "       64 GB ROM\n",
      "      </li>\n",
      "      <li class=\"tVe95H\">\n",
      "       11.94 cm (4.7 inch) Retina HD Display\n",
      "      </li>\n",
      "      <li class=\"tVe95H\">\n",
      "       12MP Rear Camera | 7MP Front Camera\n",
      "      </li>\n",
      "      <li class=\"tVe95H\">\n",
      "       A13 Bionic Chip with 3rd Gen Neural Engine Processor\n",
      "      </li>\n",
      "      <li class=\"tVe95H\">\n",
      "       Water and Dust Resistant (1 meter for Upto 30 minutes, IP67)\n",
      "      </li>\n",
      "      <li class=\"tVe95H\">\n",
      "       Fast Charge Capable\n",
      "      </li>\n",
      "      <li class=\"tVe95H\">\n",
      "       Wireless charging (Works with Qi Chargers | Qi Chargers are Sold Separately\n",
      "      </li>\n",
      "      <li class=\"tVe95H\">\n",
      "       Brand Warranty for 1 Year\n",
      "      </li>\n",
      "     </ul>\n",
      "    </div>\n",
      "   </div>\n",
      "   <div class=\"col col-5-12 _2o7WAb\">\n",
      "    <div class=\"_6BWGkk\">\n",
      "     <div class=\"_1uv9Cb\">\n",
      "      <div class=\"_1vC4OE _2rQ-NK\">\n",
      "       ₹41,500\n",
      "      </div>\n",
      "      <div class=\"_3auQ3N _2GcJzG\">\n",
      "       ₹\n",
      "       <!-- -->\n",
      "       42,500\n",
      "      </div>\n",
      "      <div class=\"VGWI6T\">\n",
      "       <span>\n",
      "        2% off\n",
      "       </span>\n",
      "      </div>\n",
      "     </div>\n",
      "    </div>\n",
      "    <div class=\"_3n6o0t\">\n",
      "     <img height=\"21\" src=\"//img1a.flixcart.com/www/linchpin/fk-cp-zion/img/fa_8b4b59.png\"/>\n",
      "    </div>\n",
      "    <div class=\"_2nE8_R\">\n",
      "     <div class=\"_3_G5Wj\" style=\"color:#000000;font-size:14px;font-family:inherit;font-weight:normal\">\n",
      "      No Cost EMI\n",
      "     </div>\n",
      "    </div>\n",
      "    <div class=\"_2nE8_R\">\n",
      "     <div class=\"_3_G5Wj\" style=\"color:#000000;font-size:14px;font-family:inherit;font-weight:normal\">\n",
      "      Upto\n",
      "     </div>\n",
      "     <div class=\"_3_G5Wj\" style=\"color:#000000;font-size:14px;font-family:inherit;font-weight:bold\">\n",
      "      ₹13,450\n",
      "     </div>\n",
      "     <div class=\"_3_G5Wj\" style=\"color:#000000;font-size:14px;font-family:inherit;font-weight:normal\">\n",
      "      Off on Exchange\n",
      "     </div>\n",
      "    </div>\n",
      "   </div>\n",
      "  </div>\n",
      " </a>\n",
      "</div>\n"
     ]
    }
   ],
   "source": [
    "# print(container[0])\n",
    "print(soup.prettify(container[0]))"
   ]
  },
  {
   "cell_type": "markdown",
   "metadata": {},
   "source": [
    "_Getting title_"
   ]
  },
  {
   "cell_type": "code",
   "execution_count": 6,
   "metadata": {},
   "outputs": [
    {
     "data": {
      "text/plain": [
       "'Apple iPhone SE (Black, 64 GB)'"
      ]
     },
     "execution_count": 6,
     "metadata": {},
     "output_type": "execute_result"
    }
   ],
   "source": [
    "container[0].div.img['alt']"
   ]
  },
  {
   "cell_type": "code",
   "execution_count": 7,
   "metadata": {},
   "outputs": [
    {
     "data": {
      "text/plain": [
       "'Apple iPhone SE (Black, 64 GB)'"
      ]
     },
     "execution_count": 7,
     "metadata": {},
     "output_type": "execute_result"
    }
   ],
   "source": [
    "# anaother possible way\n",
    "title = container[0].findAll(\"div\", {'class':'_3wU53n'})\n",
    "title[0].text"
   ]
  },
  {
   "cell_type": "markdown",
   "metadata": {},
   "source": [
    "_Getting price_"
   ]
  },
  {
   "cell_type": "code",
   "execution_count": 8,
   "metadata": {},
   "outputs": [
    {
     "data": {
      "text/plain": [
       "'₹41,500₹42,5002% offNo Cost EMIUpto ₹13,450 Off on Exchange'"
      ]
     },
     "execution_count": 8,
     "metadata": {},
     "output_type": "execute_result"
    }
   ],
   "source": [
    "price = container[0].findAll(\"div\", {\"class\":\"col col-5-12 _2o7WAb\"})\n",
    "# print(type(price))\n",
    "price[0].text"
   ]
  },
  {
   "cell_type": "code",
   "execution_count": 9,
   "metadata": {},
   "outputs": [
    {
     "data": {
      "text/plain": [
       "'₹41,500'"
      ]
     },
     "execution_count": 9,
     "metadata": {},
     "output_type": "execute_result"
    }
   ],
   "source": [
    "price = container[0].findAll(\"div\", {\"class\":\"_1vC4OE _2rQ-NK\"})\n",
    "price[0].text"
   ]
  },
  {
   "cell_type": "markdown",
   "metadata": {},
   "source": [
    "_ratings_"
   ]
  },
  {
   "cell_type": "code",
   "execution_count": 10,
   "metadata": {},
   "outputs": [
    {
     "data": {
      "text/plain": [
       "'4.517,236 Ratings\\xa0&\\xa01,677 Reviews'"
      ]
     },
     "execution_count": 10,
     "metadata": {},
     "output_type": "execute_result"
    }
   ],
   "source": [
    "rate = container[0].findAll(\"div\", {\"class\":\"niH0FQ\"})\n",
    "rate[0].text"
   ]
  },
  {
   "cell_type": "code",
   "execution_count": 11,
   "metadata": {},
   "outputs": [
    {
     "data": {
      "text/plain": [
       "'4.5'"
      ]
     },
     "execution_count": 11,
     "metadata": {},
     "output_type": "execute_result"
    }
   ],
   "source": [
    "rate = container[0].findAll(\"div\", {\"class\":\"hGSR34\"})\n",
    "rate[0].text"
   ]
  },
  {
   "cell_type": "markdown",
   "metadata": {},
   "source": [
    "## Showing the results into a File"
   ]
  },
  {
   "cell_type": "code",
   "execution_count": 12,
   "metadata": {},
   "outputs": [
    {
     "name": "stdout",
     "output_type": "stream",
     "text": [
      "Apple iPhone SE (Black| 64 GB) , Rs.41500 , 4.517\n",
      "Apple iPhone SE (Red| 64 GB) , Rs.41500 , 4.517\n",
      "Apple iPhone SE (White| 64 GB) , Rs.41500 , 4.517\n",
      "Apple iPhone XR (Black| 128 GB) , Rs.57800 , 4.614\n",
      "Apple iPhone XR (White| 128 GB) , Rs.57800 , 4.614\n",
      "Apple iPhone XR (White| 64 GB) , Rs.52500 , 4.614\n",
      "Apple iPhone SE (Red| 128 GB) , Rs.46800 , 4.517\n",
      "Apple iPhone XR ((PRODUCT)RED| 64 GB) , Rs.52500 , 4.614\n",
      "Apple iPhone 7 (Black| 32 GB) , Rs.29799 , 4.591\n",
      "Apple iPhone SE (White| 128 GB) , Rs.46800 , 4.517\n",
      "Apple iPhone XR (Blue| 64 GB) , Rs.52500 , 4.614\n",
      "Apple iPhone SE (Black| 128 GB) , Rs.46800 , 4.517\n",
      "Apple iPhone XR (Coral| 64 GB) , Rs.52500 , 4.614\n",
      "Apple iPhone XR ((PRODUCT)RED| 128 GB) , Rs.57800 , 4.614\n",
      "Apple iPhone 7 (Silver| 32 GB) , Rs.29799 , 4.591\n",
      "Apple iPhone 7 Plus (Black| 32 GB) , Rs.36999 , 4.528\n",
      "Apple iPhone XR (Coral| 128 GB) , Rs.57800 , 4.614\n",
      "Apple iPhone XR (Blue| 128 GB) , Rs.57800 , 4.614\n",
      "Apple iPhone 11 (Black| 64 GB) , Rs.68300 , 4.718\n",
      "Apple iPhone 11 (White| 128 GB) , Rs.73600 , 4.718\n",
      "Apple iPhone 11 (Purple| 64 GB) , Rs.68300 , 4.718\n",
      "Apple iPhone 11 (White| 64 GB) , Rs.68300 , 4.718\n",
      "Apple iPhone XR (Yellow| 64 GB) , Rs.52500 , 4.614\n",
      "Apple iPhone 7 (Rose Gold| 32 GB) , Rs.29799 , 4.591\n"
     ]
    }
   ],
   "source": [
    "file= 'Iphone_Products.csv'\n",
    "f = open(file, \"w\")\n",
    "\n",
    "headers = \"Product Name, Pricing, Ratings\\n\"\n",
    "f.write(headers)\n",
    "\n",
    "for c in container:\n",
    "    product_name = c.div.img['alt']\n",
    "    \n",
    "    price_container = c.findAll(\"div\", {\"class\":\"col col-5-12 _2o7WAb\"})\n",
    "    price = price_container[0].text.strip()\n",
    "    \n",
    "    rate_container = c.findAll(\"div\", {\"class\":\"niH0FQ\"})\n",
    "    rating = rate_container[0].text\n",
    "    \n",
    "    # print(\"Product Name : \", product_name)\n",
    "    # print(\"Price : \", price)\n",
    "    # print(\"Rating : \", rate)\n",
    "    \n",
    "    # string parsing\n",
    "    # I want only prince e.g.41516\n",
    "    # I want only rating e.g. 4.5\n",
    "    \n",
    "    trim_price = ''.join(price.split(','))\n",
    "    rm_rupee = trim_price.split('₹')\n",
    "    add_rs_price = \"Rs.\"+rm_rupee[1]\n",
    "    split_price = add_rs_price.split('N')\n",
    "    final_price = split_price[0]\n",
    "    \n",
    "    split_rating = rating.split(\",\")\n",
    "    final_rating = split_rating[0]\n",
    "    \n",
    "    print(product_name.replace(',', '|'), \",\" , final_price , \",\" , final_rating)\n",
    "    f.write(product_name.replace(',', '|') + \",\" + final_price + \",\" + final_rating + \"\\n\")\n",
    "f.close()"
   ]
  },
  {
   "cell_type": "markdown",
   "metadata": {},
   "source": [
    "We have successfully parsed and stored our product information inside variables. To finalise this project, we are going to store them in well readable JSON-format:"
   ]
  },
  {
   "cell_type": "code",
   "execution_count": 13,
   "metadata": {},
   "outputs": [
    {
     "name": "stdout",
     "output_type": "stream",
     "text": [
      "{\n",
      "  \"Product_title\": \"Apple iPhone 7 (Rose Gold| 32 GB)\",\n",
      "  \"product_price\": \"Rs.29799\",\n",
      "  \"product_rating\": \"4.591\"\n",
      "}\n",
      "{\n",
      "  \"Product_title\": \"Apple iPhone 7 (Rose Gold| 32 GB)\",\n",
      "  \"product_price\": \"Rs.29799\",\n",
      "  \"product_rating\": \"4.591\"\n",
      "}\n",
      "{\n",
      "  \"Product_title\": \"Apple iPhone 7 (Rose Gold| 32 GB)\",\n",
      "  \"product_price\": \"Rs.29799\",\n",
      "  \"product_rating\": \"4.591\"\n",
      "}\n",
      "{\n",
      "  \"Product_title\": \"Apple iPhone 7 (Rose Gold| 32 GB)\",\n",
      "  \"product_price\": \"Rs.29799\",\n",
      "  \"product_rating\": \"4.591\"\n",
      "}\n",
      "{\n",
      "  \"Product_title\": \"Apple iPhone 7 (Rose Gold| 32 GB)\",\n",
      "  \"product_price\": \"Rs.29799\",\n",
      "  \"product_rating\": \"4.591\"\n",
      "}\n",
      "{\n",
      "  \"Product_title\": \"Apple iPhone 7 (Rose Gold| 32 GB)\",\n",
      "  \"product_price\": \"Rs.29799\",\n",
      "  \"product_rating\": \"4.591\"\n",
      "}\n",
      "{\n",
      "  \"Product_title\": \"Apple iPhone 7 (Rose Gold| 32 GB)\",\n",
      "  \"product_price\": \"Rs.29799\",\n",
      "  \"product_rating\": \"4.591\"\n",
      "}\n",
      "{\n",
      "  \"Product_title\": \"Apple iPhone 7 (Rose Gold| 32 GB)\",\n",
      "  \"product_price\": \"Rs.29799\",\n",
      "  \"product_rating\": \"4.591\"\n",
      "}\n",
      "{\n",
      "  \"Product_title\": \"Apple iPhone 7 (Rose Gold| 32 GB)\",\n",
      "  \"product_price\": \"Rs.29799\",\n",
      "  \"product_rating\": \"4.591\"\n",
      "}\n",
      "{\n",
      "  \"Product_title\": \"Apple iPhone 7 (Rose Gold| 32 GB)\",\n",
      "  \"product_price\": \"Rs.29799\",\n",
      "  \"product_rating\": \"4.591\"\n",
      "}\n",
      "{\n",
      "  \"Product_title\": \"Apple iPhone 7 (Rose Gold| 32 GB)\",\n",
      "  \"product_price\": \"Rs.29799\",\n",
      "  \"product_rating\": \"4.591\"\n",
      "}\n",
      "{\n",
      "  \"Product_title\": \"Apple iPhone 7 (Rose Gold| 32 GB)\",\n",
      "  \"product_price\": \"Rs.29799\",\n",
      "  \"product_rating\": \"4.591\"\n",
      "}\n",
      "{\n",
      "  \"Product_title\": \"Apple iPhone 7 (Rose Gold| 32 GB)\",\n",
      "  \"product_price\": \"Rs.29799\",\n",
      "  \"product_rating\": \"4.591\"\n",
      "}\n",
      "{\n",
      "  \"Product_title\": \"Apple iPhone 7 (Rose Gold| 32 GB)\",\n",
      "  \"product_price\": \"Rs.29799\",\n",
      "  \"product_rating\": \"4.591\"\n",
      "}\n",
      "{\n",
      "  \"Product_title\": \"Apple iPhone 7 (Rose Gold| 32 GB)\",\n",
      "  \"product_price\": \"Rs.29799\",\n",
      "  \"product_rating\": \"4.591\"\n",
      "}\n",
      "{\n",
      "  \"Product_title\": \"Apple iPhone 7 (Rose Gold| 32 GB)\",\n",
      "  \"product_price\": \"Rs.29799\",\n",
      "  \"product_rating\": \"4.591\"\n",
      "}\n",
      "{\n",
      "  \"Product_title\": \"Apple iPhone 7 (Rose Gold| 32 GB)\",\n",
      "  \"product_price\": \"Rs.29799\",\n",
      "  \"product_rating\": \"4.591\"\n",
      "}\n",
      "{\n",
      "  \"Product_title\": \"Apple iPhone 7 (Rose Gold| 32 GB)\",\n",
      "  \"product_price\": \"Rs.29799\",\n",
      "  \"product_rating\": \"4.591\"\n",
      "}\n",
      "{\n",
      "  \"Product_title\": \"Apple iPhone 7 (Rose Gold| 32 GB)\",\n",
      "  \"product_price\": \"Rs.29799\",\n",
      "  \"product_rating\": \"4.591\"\n",
      "}\n",
      "{\n",
      "  \"Product_title\": \"Apple iPhone 7 (Rose Gold| 32 GB)\",\n",
      "  \"product_price\": \"Rs.29799\",\n",
      "  \"product_rating\": \"4.591\"\n",
      "}\n",
      "{\n",
      "  \"Product_title\": \"Apple iPhone 7 (Rose Gold| 32 GB)\",\n",
      "  \"product_price\": \"Rs.29799\",\n",
      "  \"product_rating\": \"4.591\"\n",
      "}\n",
      "{\n",
      "  \"Product_title\": \"Apple iPhone 7 (Rose Gold| 32 GB)\",\n",
      "  \"product_price\": \"Rs.29799\",\n",
      "  \"product_rating\": \"4.591\"\n",
      "}\n",
      "{\n",
      "  \"Product_title\": \"Apple iPhone 7 (Rose Gold| 32 GB)\",\n",
      "  \"product_price\": \"Rs.29799\",\n",
      "  \"product_rating\": \"4.591\"\n",
      "}\n",
      "{\n",
      "  \"Product_title\": \"Apple iPhone 7 (Rose Gold| 32 GB)\",\n",
      "  \"product_price\": \"Rs.29799\",\n",
      "  \"product_rating\": \"4.591\"\n",
      "}\n"
     ]
    }
   ],
   "source": [
    "import json\n",
    "\n",
    "for c in container:\n",
    "    jsonObject = {'Product_title': product_name.replace(',', '|'), 'product_price': final_price, 'product_rating': final_rating}\n",
    "    # To display our result, we print the JSON-object\n",
    "    print(json.dumps(jsonObject, indent=2))"
   ]
  },
  {
   "cell_type": "code",
   "execution_count": 14,
   "metadata": {},
   "outputs": [],
   "source": [
    "# json\n",
    "product_json = {}\n",
    "product_json[\"Product_title\"] = product_name.replace(',', '|')\n",
    "product_json['Product_price'] = final_price\n",
    "product_json['Product_rating'] = final_rating"
   ]
  },
  {
   "cell_type": "code",
   "execution_count": 15,
   "metadata": {},
   "outputs": [
    {
     "name": "stdout",
     "output_type": "stream",
     "text": [
      "———Extraction of data is complete. Check json file.———\n"
     ]
    }
   ],
   "source": [
    "# Saving the scraped html file\n",
    "# with open(‘output_file.html’, ‘wb’) as file:\n",
    "# file.write(html)\n",
    "\n",
    "# Saving the scraped data in json format\n",
    "\n",
    "with open(\"product.json\", \"w\") as outfile:\n",
    "    for c in container:\n",
    "        json.dump(product_json, outfile, indent=4)\n",
    "print ('———Extraction of data is complete. Check json file.———')"
   ]
  },
  {
   "cell_type": "code",
   "execution_count": null,
   "metadata": {},
   "outputs": [],
   "source": []
  }
 ],
 "metadata": {
  "kernelspec": {
   "display_name": "Python 3",
   "language": "python",
   "name": "python3"
  },
  "language_info": {
   "codemirror_mode": {
    "name": "ipython",
    "version": 3
   },
   "file_extension": ".py",
   "mimetype": "text/x-python",
   "name": "python",
   "nbconvert_exporter": "python",
   "pygments_lexer": "ipython3",
   "version": "3.8.2"
  }
 },
 "nbformat": 4,
 "nbformat_minor": 4
}
